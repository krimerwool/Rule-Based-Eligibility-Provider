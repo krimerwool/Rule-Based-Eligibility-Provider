{
 "cells": [
  {
   "cell_type": "code",
   "execution_count": 1,
   "metadata": {},
   "outputs": [],
   "source": [
    "class Node:\n",
    "    def __init__(self, node_type, value, left=None, right=None):\n",
    "        self.node_type = node_type\n",
    "        self.value = value\n",
    "        self.left = left\n",
    "        self.right = right\n",
    "\n",
    "    def __repr__(self):\n",
    "        left = f\"Left({self.left})\" if self.left else \"None\"\n",
    "        right = f\"Right({self.right})\" if self.right else \"None\"\n",
    "        return f\"Node(type={self.node_type}, value={self.value}, {left}, {right})\"\n",
    "\n"
   ]
  },
  {
   "cell_type": "code",
   "execution_count": 2,
   "metadata": {},
   "outputs": [],
   "source": [
    "reso = \"(age > 30 AND department = 'Sales') OR (age < 25 AND department = 'Marketing')\"\n",
    "\n",
    "#these are conditions and operations e.g. condition age>30 and operator AND, OR(these will be interal node)"
   ]
  },
  {
   "cell_type": "code",
   "execution_count": 4,
   "metadata": {},
   "outputs": [],
   "source": [
    "''' We need to start constructing thi the operator that is out of all the brackets, which will be the parent of all '''\n",
    "''' higher the operator precedence lower it is placed'''\n",
    "\n",
    "''' BUT if new addition is make like (existing rule ) AND (xyz), then AND WILL BE ON TOP OF EXISTING RULES OPERATORS\n",
    "In the given scenario, AND is placed at the top because we are manually constructing a new AST by explicitly introducing\n",
    "a new condition that is to be combined with the entire existing rule using the AND operator. This operation is different \n",
    "from how operator precedence works within a single rule.'''\n",
    "\n",
    "\n",
    "operator_precedence = {\n",
    "    \"AND\" : 1,\n",
    "    \"OR\" : 2\n",
    "}\n",
    "#BRACKETS WILL BE CONSIDERED WITHIN ALGORITHM "
   ]
  },
  {
   "cell_type": "code",
   "execution_count": 5,
   "metadata": {},
   "outputs": [],
   "source": [
    "def evaluate_rule(node, user_data):\n",
    "    if node.type == \"operand\":\n",
    "        condition = node.value  \n",
    "        return eval_condition(condition, user_data)\n",
    "\n",
    "    elif node.type == \"operator\":\n",
    "        left_result = evaluate_rule(node.left, user_data)\n",
    "        right_result = evaluate_rule(node.right, user_data)\n",
    "\n",
    "        if node.value == \"AND\":\n",
    "            return left_result and right_result\n",
    "        elif node.value == \"OR\":\n",
    "            return left_result or right_result\n",
    "\n",
    "def eval_condition(condition, user_data):\n",
    "    # Example: condition is \"age > 30\"\n",
    "    attribute, operator, value = parse_condition(condition)\n",
    "    user_value = user_data[attribute]  # Get the user's value for \"age\"\n",
    "    return apply_operator(user_value, operator, value)\n",
    "\n",
    "# Helper functions for parsing and applying operators would be defined separately\n"
   ]
  },
  {
   "cell_type": "code",
   "execution_count": 6,
   "metadata": {},
   "outputs": [
    {
     "name": "stdout",
     "output_type": "stream",
     "text": [
      "Node(type=operator, value=OR, Left(Node(type=operator, value=AND, Left(Node(type=operand, value=age > 30, None, None)), Right(Node(type=operand, value=department = 'Sales', None, None)))), Right(Node(type=operator, value=AND, Left(Node(type=operand, value=age < 25, None, None)), Right(Node(type=operand, value=department = 'Marketing', None, None)))))\n"
     ]
    }
   ],
   "source": [
    "import re\n",
    "\n",
    "def tokenize(rule_string):\n",
    "\n",
    "    tokens = re.findall(r'\\w+\\s*=\\s*\\'\\w+\\'|\\w+\\s*[><=]\\s*\\d+|\\(|\\)|AND|OR', rule_string)\n",
    "    return tokens\n",
    "\n",
    "def parse_condition(condition):\n",
    "\n",
    "    condition = condition.strip()\n",
    "    if '>' in condition:\n",
    "        attribute, value = condition.split('>')\n",
    "        return lambda data: data[attribute.strip()] > int(value.strip())\n",
    "    elif '<' in condition:\n",
    "        attribute, value = condition.split('<')\n",
    "        return lambda data: data[attribute.strip()] < int(value.strip())\n",
    "    elif '=' in condition:\n",
    "        attribute, value = condition.split('=')\n",
    "        value = value.strip().strip(\"'\")\n",
    "        return lambda data: data[attribute.strip()] == value\n",
    "\n",
    "def parse_expression(tokens):\n",
    "    \"\"\" Parse tokens into an AST recursively. \"\"\"\n",
    "    stack = []\n",
    "    \n",
    "    def create_node(op_type, left, right):\n",
    "        return Node(node_type=\"operator\", value=op_type, left=left, right=right)\n",
    "    \n",
    "    i = 0\n",
    "    while i < len(tokens):\n",
    "        token = tokens[i]\n",
    "        \n",
    "        if token == \"(\":\n",
    "            stack.append(token)\n",
    "        elif token == \")\":\n",
    "            # Collapse the stack into a subtree\n",
    "            right = stack.pop()\n",
    "            operator = stack.pop()\n",
    "            left = stack.pop()\n",
    "            stack.pop()  # Remove '('\n",
    "            stack.append(create_node(operator, left, right))\n",
    "        elif token in [\"AND\", \"OR\"]:\n",
    "            stack.append(token)\n",
    "        else:\n",
    "            # It's a condition, create a leaf node (operand)\n",
    "            stack.append(Node(node_type=\"operand\", value=token))\n",
    "        \n",
    "        i += 1\n",
    "    \n",
    "    return stack[0]  # Return the root node of the AST\n",
    "\n",
    "def create_rule(rule_string):\n",
    "\n",
    "    tokens = tokenize(rule_string)\n",
    "    return parse_expression(tokens)\n",
    "\n",
    "rule = \"((age > 30 AND department = 'Sales') OR (age < 25 AND department = 'Marketing'))\"\n",
    "ast = create_rule(rule)\n",
    "print(ast)\n",
    "\n"
   ]
  },
  {
   "cell_type": "code",
   "execution_count": 8,
   "metadata": {},
   "outputs": [
    {
     "name": "stdout",
     "output_type": "stream",
     "text": [
      "True\n",
      "False\n"
     ]
    }
   ],
   "source": [
    "def evaluate_condition(node, data):\n",
    "    return parse_condition(node.value)(data)\n",
    "\n",
    "def evaluate_ast(node, data):\n",
    "    if node.node_type == \"operand\":\n",
    "        return evaluate_condition(node, data)\n",
    "    \n",
    "    left_result = evaluate_ast(node.left, data)\n",
    "    right_result = evaluate_ast(node.right, data)\n",
    "    \n",
    "    if node.value == \"AND\":\n",
    "        return left_result and right_result\n",
    "    elif node.value == \"OR\":\n",
    "        return left_result or right_result\n",
    "\n",
    "user_data_1 = {\n",
    "    \"age\": 35,\n",
    "    \"department\": \"Sales\",\n",
    "    \"salary\": 60000,\n",
    "    \"experience\": 3\n",
    "}\n",
    "\n",
    "user_data_2 = {\n",
    "    \"age\": 23,\n",
    "    \"department\": \"Sales\",\n",
    "    \"salary\": 300,\n",
    "    \"experience\": 1\n",
    "}\n",
    "\n",
    "\n",
    "print(evaluate_ast(ast, user_data_1))  \n",
    "print(evaluate_ast(ast, user_data_2)) \n"
   ]
  },
  {
   "cell_type": "code",
   "execution_count": 10,
   "metadata": {},
   "outputs": [
    {
     "ename": "IndexError",
     "evalue": "pop from empty list",
     "output_type": "error",
     "traceback": [
      "\u001b[1;31m---------------------------------------------------------------------------\u001b[0m",
      "\u001b[1;31mIndexError\u001b[0m                                Traceback (most recent call last)",
      "Cell \u001b[1;32mIn[10], line 17\u001b[0m\n\u001b[0;32m     14\u001b[0m rule_2 \u001b[38;5;241m=\u001b[39m \u001b[38;5;124m\"\u001b[39m\u001b[38;5;124m((salary > 50000 OR experience > 5))\u001b[39m\u001b[38;5;124m\"\u001b[39m\n\u001b[0;32m     16\u001b[0m ast_1 \u001b[38;5;241m=\u001b[39m create_rule(rule_1)\n\u001b[1;32m---> 17\u001b[0m ast_2 \u001b[38;5;241m=\u001b[39m \u001b[43mcreate_rule\u001b[49m\u001b[43m(\u001b[49m\u001b[43mrule_2\u001b[49m\u001b[43m)\u001b[49m\n\u001b[0;32m     19\u001b[0m combined_ast \u001b[38;5;241m=\u001b[39m combine_rules([ast_1, ast_2], \u001b[38;5;124m\"\u001b[39m\u001b[38;5;124mAND\u001b[39m\u001b[38;5;124m\"\u001b[39m)\n\u001b[0;32m     20\u001b[0m \u001b[38;5;28mprint\u001b[39m(evaluate_ast(combined_ast, user_data_1))  \n",
      "Cell \u001b[1;32mIn[6], line 55\u001b[0m, in \u001b[0;36mcreate_rule\u001b[1;34m(rule_string)\u001b[0m\n\u001b[0;32m     52\u001b[0m \u001b[38;5;28;01mdef\u001b[39;00m \u001b[38;5;21mcreate_rule\u001b[39m(rule_string):\n\u001b[0;32m     54\u001b[0m     tokens \u001b[38;5;241m=\u001b[39m tokenize(rule_string)\n\u001b[1;32m---> 55\u001b[0m     \u001b[38;5;28;01mreturn\u001b[39;00m \u001b[43mparse_expression\u001b[49m\u001b[43m(\u001b[49m\u001b[43mtokens\u001b[49m\u001b[43m)\u001b[49m\n",
      "Cell \u001b[1;32mIn[6], line 39\u001b[0m, in \u001b[0;36mparse_expression\u001b[1;34m(tokens)\u001b[0m\n\u001b[0;32m     37\u001b[0m right \u001b[38;5;241m=\u001b[39m stack\u001b[38;5;241m.\u001b[39mpop()\n\u001b[0;32m     38\u001b[0m operator \u001b[38;5;241m=\u001b[39m stack\u001b[38;5;241m.\u001b[39mpop()\n\u001b[1;32m---> 39\u001b[0m left \u001b[38;5;241m=\u001b[39m \u001b[43mstack\u001b[49m\u001b[38;5;241;43m.\u001b[39;49m\u001b[43mpop\u001b[49m\u001b[43m(\u001b[49m\u001b[43m)\u001b[49m\n\u001b[0;32m     40\u001b[0m stack\u001b[38;5;241m.\u001b[39mpop()  \u001b[38;5;66;03m# Remove '('\u001b[39;00m\n\u001b[0;32m     41\u001b[0m stack\u001b[38;5;241m.\u001b[39mappend(create_node(operator, left, right))\n",
      "\u001b[1;31mIndexError\u001b[0m: pop from empty list"
     ]
    }
   ],
   "source": [
    "def combine_rules(asts, operator):\n",
    "    if not asts:\n",
    "        return None\n",
    "    if len(asts) == 1:\n",
    "        return asts[0]\n",
    "    \n",
    "    combined_ast = asts[0]\n",
    "    for ast in asts[1:]:\n",
    "        combined_ast = Node(node_type=\"operator\", value=operator, left=combined_ast, right=ast)\n",
    "    \n",
    "    return combined_ast\n",
    "\n",
    "rule_1 = \"((age > 30 AND department = 'Sales') OR (age < 25 AND department = 'Marketing'))\"\n",
    "rule_2 = \"((salary > 50000 OR experience > 5))\"\n",
    "\n",
    "ast_1 = create_rule(rule_1)\n",
    "ast_2 = create_rule(rule_2)\n",
    "\n",
    "combined_ast = combine_rules([ast_1, ast_2], \"AND\")\n",
    "print(evaluate_ast(combined_ast, user_data_1))  \n",
    "print(evaluate_ast(combined_ast, user_data_2))  \n"
   ]
  },
  {
   "cell_type": "code",
   "execution_count": 11,
   "metadata": {},
   "outputs": [
    {
     "name": "stdout",
     "output_type": "stream",
     "text": [
      "{\"type\": \"operator\", \"value\": \"OR\", \"left\": {\"type\": \"operator\", \"value\": \"AND\", \"left\": {\"type\": \"operand\", \"value\": \"age > 30\", \"left\": null, \"right\": null}, \"right\": {\"type\": \"operand\", \"value\": \"department = 'Sales'\", \"left\": null, \"right\": null}}, \"right\": {\"type\": \"operator\", \"value\": \"AND\", \"left\": {\"type\": \"operand\", \"value\": \"age < 25\", \"left\": null, \"right\": null}, \"right\": {\"type\": \"operand\", \"value\": \"department = 'Marketing'\", \"left\": null, \"right\": null}}}\n",
      "Node(type=operator, value=OR, Left(Node(type=operator, value=AND, Left(Node(type=operand, value=age > 30, None, None)), Right(Node(type=operand, value=department = 'Sales', None, None)))), Right(Node(type=operator, value=AND, Left(Node(type=operand, value=age < 25, None, None)), Right(Node(type=operand, value=department = 'Marketing', None, None)))))\n"
     ]
    }
   ],
   "source": [
    "import json\n",
    "\n",
    "def ast_to_dict(node):\n",
    "    if node is None:\n",
    "        return None\n",
    "    return {\n",
    "        \"type\": node.node_type,\n",
    "        \"value\": node.value,\n",
    "        \"left\": ast_to_dict(node.left),\n",
    "        \"right\": ast_to_dict(node.right)\n",
    "    }\n",
    "\n",
    "def dict_to_ast(d):\n",
    "    if d is None:\n",
    "        return None\n",
    "    return Node(node_type=d['type'], value=d['value'], left=dict_to_ast(d['left']), right=dict_to_ast(d['right']))\n",
    "\n",
    "# Example:\n",
    "ast_json = json.dumps(ast_to_dict(ast))  \n",
    "print(ast_json)\n",
    "\n",
    "restored_ast = dict_to_ast(json.loads(ast_json))  \n",
    "print(restored_ast)\n"
   ]
  },
  {
   "cell_type": "code",
   "execution_count": 12,
   "metadata": {},
   "outputs": [
    {
     "name": "stdout",
     "output_type": "stream",
     "text": [
      "An error occurred while saving AST to JSON: [Errno 2] No such file or directory: 'D:\\\\AST_project\\\\src\\\\files\\\\ast_dict.json'\n"
     ]
    }
   ],
   "source": [
    "from flask_cors import CORS\n",
    "from datetime import datetime, timedelta\n",
    "from collections import deque\n",
    "\n",
    "from utils.create_json import ast_to_dict, dict_to_ast, save_ast_to_json\n",
    "\n",
    "import os\n",
    "import requests\n",
    "from logic.parsing import tokenize, parse_expression\n",
    "from flask import Flask, jsonify, request, send_from_directory, render_template\n",
    "\n",
    "\n",
    "def get_rule():\n",
    "    rule = \"((age > 30 AND department = 'Sales') OR (age < 25 AND department = 'Marketing'))\"\n",
    "\n",
    "    # restored_ast = dict_to_ast(json.loads(ast_json)) \n",
    "    path_to_json = r'D:\\AST_project\\src\\files\\ast_dict.json'\n",
    "    tokenized_rule = tokenize(rule)\n",
    "    rule = parse_expression(tokenized_rule)\n",
    "    ast_dict = ast_to_dict(rule)\n",
    "    save_ast_to_json(rule,path_to_json )\n",
    "    return ast_dict\n",
    "\n",
    "diii = get_rule()\n"
   ]
  },
  {
   "cell_type": "code",
   "execution_count": 13,
   "metadata": {},
   "outputs": [
    {
     "name": "stdout",
     "output_type": "stream",
     "text": [
      "{'type': 'operator', 'value': 'OR', 'left': {'type': 'operator', 'value': 'AND', 'left': {'type': 'operand', 'value': 'age > 30', 'left': None, 'right': None}, 'right': {'type': 'operand', 'value': \"department = 'Sales'\", 'left': None, 'right': None}}, 'right': {'type': 'operator', 'value': 'AND', 'left': {'type': 'operand', 'value': 'age < 25', 'left': None, 'right': None}, 'right': {'type': 'operand', 'value': \"department = 'Marketing'\", 'left': None, 'right': None}}}\n"
     ]
    }
   ],
   "source": [
    "print(diii)"
   ]
  },
  {
   "cell_type": "code",
   "execution_count": 15,
   "metadata": {},
   "outputs": [
    {
     "name": "stdout",
     "output_type": "stream",
     "text": [
      "AST loaded successfully from 'files/ast_dict.json'.\n",
      "Node(type=operator, value=OR, Left(Node(type=operator, value=AND, Left(Node(type=operand, value=age > 30, None, None)), Right(Node(type=operand, value=department = 'Sales', None, None)))), Right(Node(type=operator, value=AND, Left(Node(type=operand, value=age < 25, None, None)), Right(Node(type=operand, value=department = 'Marketing', None, None)))))\n",
      "['age > 30', \"department = 'Sales'\", 'age < 25', \"department = 'Marketing'\"]\n"
     ]
    },
    {
     "data": {
      "text/plain": [
       "['age', 'department']"
      ]
     },
     "execution_count": 15,
     "metadata": {},
     "output_type": "execute_result"
    }
   ],
   "source": [
    "from utils.create_json import load_ast_from_json, dict_to_ast\n",
    "from utils.collect_operands import collect_operands, collect_operands_for_user_data\n",
    "rule = load_ast_from_json(r'files/ast_dict.json')\n",
    "print(rule)\n",
    "\n",
    "\n",
    "print(collect_operands(rule))\n",
    "collect_operands_for_user_data(rule)\n"
   ]
  }
 ],
 "metadata": {
  "kernelspec": {
   "display_name": "Python 3",
   "language": "python",
   "name": "python3"
  },
  "language_info": {
   "codemirror_mode": {
    "name": "ipython",
    "version": 3
   },
   "file_extension": ".py",
   "mimetype": "text/x-python",
   "name": "python",
   "nbconvert_exporter": "python",
   "pygments_lexer": "ipython3",
   "version": "3.12.6"
  }
 },
 "nbformat": 4,
 "nbformat_minor": 2
}
